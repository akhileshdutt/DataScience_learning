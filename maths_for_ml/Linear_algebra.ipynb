{
 "cells": [
  {
   "cell_type": "code",
   "execution_count": 1,
   "metadata": {},
   "outputs": [],
   "source": [
    "import numpy as np"
   ]
  },
  {
   "cell_type": "markdown",
   "metadata": {},
   "source": [
    "### Dot Product"
   ]
  },
  {
   "cell_type": "code",
   "execution_count": 4,
   "metadata": {},
   "outputs": [
    {
     "data": {
      "text/plain": [
       "array([[-14]])"
      ]
     },
     "execution_count": 4,
     "metadata": {},
     "output_type": "execute_result"
    }
   ],
   "source": [
    "x,y= np.array([[-2],[2]]),np.array([[4],[-3]])\n",
    "np.dot(x.T,y)"
   ]
  },
  {
   "cell_type": "code",
   "execution_count": 5,
   "metadata": {},
   "outputs": [
    {
     "data": {
      "text/plain": [
       "array([[-14]])"
      ]
     },
     "execution_count": 5,
     "metadata": {},
     "output_type": "execute_result"
    }
   ],
   "source": [
    "x,y= np.array([[-2],[2]]),np.array([[4],[-3]])\n",
    "x.T @ y"
   ]
  },
  {
   "cell_type": "markdown",
   "metadata": {},
   "source": [
    "### Gaussian Elimination"
   ]
  },
  {
   "cell_type": "code",
   "execution_count": 1,
   "metadata": {},
   "outputs": [],
   "source": [
    "import numpy as np"
   ]
  },
  {
   "cell_type": "markdown",
   "metadata": {},
   "source": [
    "##### Function swap rows"
   ]
  },
  {
   "cell_type": "code",
   "execution_count": 2,
   "metadata": {},
   "outputs": [],
   "source": [
    "def swaprows(M,row_index_1,row_index_2):\n",
    "    M= M.copy()\n",
    "    M[[row_index_1,row_index_2]] = M[[row_index_2,row_index_1]]\n",
    "    return M"
   ]
  },
  {
   "cell_type": "code",
   "execution_count": 10,
   "metadata": {},
   "outputs": [
    {
     "name": "stdout",
     "output_type": "stream",
     "text": [
      "[[ 1  3  6]\n",
      " [ 0 -5  2]\n",
      " [-4  5  8]]\n"
     ]
    }
   ],
   "source": [
    "M = np.array([\n",
    "[1, 3, 6],\n",
    "[0, -5, 2],\n",
    "[-4, 5, 8]\n",
    "])\n",
    "print(M)\n"
   ]
  },
  {
   "cell_type": "code",
   "execution_count": 11,
   "metadata": {},
   "outputs": [
    {
     "name": "stdout",
     "output_type": "stream",
     "text": [
      "[[-4  5  8]\n",
      " [ 0 -5  2]\n",
      " [ 1  3  6]]\n"
     ]
    }
   ],
   "source": [
    "M_swapped = swaprows(M,0,2)\n",
    "print(M_swapped)"
   ]
  },
  {
   "cell_type": "markdown",
   "metadata": {},
   "source": [
    "##### Finding the first non-zero value in a column starting from a specific value"
   ]
  },
  {
   "cell_type": "code",
   "execution_count": 17,
   "metadata": {},
   "outputs": [],
   "source": [
    "def get_index_first_non_zero_value_from_column(M,column,starting_row):\n",
    "    column_array = M[starting_row:,column]\n",
    "    for i , val in enumerate(column_array):\n",
    "     # To check for non-zero values, you must always use np.isclose instead of doing \"val == 0\".\n",
    "        if not np.isclose(val,0,atol =1e-5):\n",
    "            row_index = i + starting_row\n",
    "            return row_index\n",
    "    return -1"
   ]
  },
  {
   "cell_type": "code",
   "execution_count": 18,
   "metadata": {},
   "outputs": [
    {
     "name": "stdout",
     "output_type": "stream",
     "text": [
      "[[ 0  5 -3  6  8]\n",
      " [ 0  6  3  8  1]\n",
      " [ 0  0  0  0  0]\n",
      " [ 0  0  0  0  7]\n",
      " [ 0  2  1  0  4]]\n"
     ]
    }
   ],
   "source": [
    "N = np.array([\n",
    "[0, 5, -3 ,6 ,8],\n",
    "[0, 6, 3, 8, 1],\n",
    "[0, 0, 0, 0, 0],\n",
    "[0, 0, 0 ,0 ,7],\n",
    "[0, 2, 1, 0, 4]\n",
    "]\n",
    ")\n",
    "print(N)"
   ]
  },
  {
   "cell_type": "code",
   "execution_count": 19,
   "metadata": {},
   "outputs": [
    {
     "name": "stdout",
     "output_type": "stream",
     "text": [
      "-1\n"
     ]
    }
   ],
   "source": [
    "#If you search for a value below the first column starting at the first row,\n",
    "#  the function should return -1:\n",
    "print(get_index_first_non_zero_value_from_column(N, column = 0, starting_row = 0))"
   ]
  },
  {
   "cell_type": "code",
   "execution_count": 20,
   "metadata": {},
   "outputs": [
    {
     "name": "stdout",
     "output_type": "stream",
     "text": [
      "3\n"
     ]
    }
   ],
   "source": [
    "#Searching for the first non zero value in the last column starting from row with index 2, \n",
    "#it should return 3 (index corresponding to the value 7).\n",
    "print(get_index_first_non_zero_value_from_column(N, column = 4, starting_row = 2))"
   ]
  },
  {
   "cell_type": "markdown",
   "metadata": {},
   "source": [
    "##### Find the first non zero element for any row"
   ]
  },
  {
   "cell_type": "code",
   "execution_count": 21,
   "metadata": {},
   "outputs": [],
   "source": [
    "def get_index_first_non_zero_value_from_row(M,row,augmented=False):\n",
    "    \"\"\"\n",
    "    Find the index of the first non-zero value in the specified row of the given matrix.\n",
    "\n",
    "    Parameters:\n",
    "    - matrix (numpy.array): The input matrix to search for non-zero values.\n",
    "    - row (int): The index of the row to search.\n",
    "    - augmented (bool): Pass this True if you are dealing with an augmented matrix, \n",
    "                        so it will ignore the constant values (the last column in the augmented matrix).\n",
    "\n",
    "    Returns:\n",
    "    int: The index of the first non-zero value in the specified row.\n",
    "                Returns -1 if no non-zero value is found.\n",
    "    \"\"\"\n",
    "    M = M.copy()\n",
    "       # If it is an augmented matrix, then ignore the constant values\n",
    "    if augmented == True:\n",
    "        # Isolating the coefficient matrix (removing the constant terms)\n",
    "        M = M[:,:-1]\n",
    "\n",
    "    row_array = M[row]\n",
    "    for i ,val in enumerate(row_array):\n",
    "        if not np.isclose(val,0,atol=1e-5):\n",
    "            return i\n",
    "    return -1"
   ]
  },
  {
   "cell_type": "markdown",
   "metadata": {},
   "source": [
    "##### An augmented matrix is a matrix that includes both the coefficients and the constants from a system of linear equations. It's used to apply row operations and solve the system using methods such as Gaussian elimination or Gauss-Jordan elimination. The augmented matrix for a system of equations is created by appending the constants (right-hand side values) as an additional column to the coefficient matrix."
   ]
  },
  {
   "cell_type": "code",
   "execution_count": 22,
   "metadata": {},
   "outputs": [
    {
     "name": "stdout",
     "output_type": "stream",
     "text": [
      "Output for row 2: -1\n",
      "Output for row 3: 4\n"
     ]
    }
   ],
   "source": [
    "print(f'Output for row 2: {get_index_first_non_zero_value_from_row(N, 2)}')\n",
    "print(f'Output for row 3: {get_index_first_non_zero_value_from_row(N, 3)}')"
   ]
  },
  {
   "cell_type": "markdown",
   "metadata": {},
   "source": [
    "###### \n",
    "Now, let's pass the argument augmented = True. This will make the algorithm consider  𝑁\n",
    "𝑁\n",
    "  an augmented matrix, therefore the last column will be removed from consideration. Now, the output for row 3 (starting from 0) should be different, excluding the last column, the output should be -1 as well, since in the coefficient matrix (the matrix without the last column) there is no non-zero element:"
   ]
  },
  {
   "cell_type": "code",
   "execution_count": 24,
   "metadata": {},
   "outputs": [
    {
     "name": "stdout",
     "output_type": "stream",
     "text": [
      "Output for row 3: -1\n"
     ]
    }
   ],
   "source": [
    "print(f'Output for row 3: {get_index_first_non_zero_value_from_row(N, 3, augmented = True)}')\n",
    "# because it just ignored the last column in gaussian elimination"
   ]
  },
  {
   "cell_type": "markdown",
   "metadata": {},
   "source": [
    "#### Constructing the augmented matrix"
   ]
  },
  {
   "cell_type": "code",
   "execution_count": 25,
   "metadata": {},
   "outputs": [],
   "source": [
    "def augmented_matrix(A, B):\n",
    "    \"\"\"\n",
    "    Create an augmented matrix by horizontally stacking two matrices A and B.\n",
    "\n",
    "    Parameters:\n",
    "    - A (numpy.array): First matrix.\n",
    "    - B (numpy.array): Second matrix.\n",
    "\n",
    "    Returns:\n",
    "    - numpy.array: Augmented matrix obtained by horizontally stacking A and B.\n",
    "    \"\"\"\n",
    "    augmented_M = np.hstack((A,B))\n",
    "    return augmented_M"
   ]
  },
  {
   "cell_type": "code",
   "execution_count": 26,
   "metadata": {},
   "outputs": [
    {
     "name": "stdout",
     "output_type": "stream",
     "text": [
      "[[1 2 3 1]\n",
      " [3 4 5 5]\n",
      " [4 5 6 7]]\n"
     ]
    }
   ],
   "source": [
    "A = np.array([[1,2,3], [3,4,5], [4,5,6]])\n",
    "B = np.array([[1], [5], [7]])\n",
    "\n",
    "print(augmented_matrix(A,B))"
   ]
  },
  {
   "cell_type": "code",
   "execution_count": 27,
   "metadata": {},
   "outputs": [],
   "source": [
    "import numpy as np\n",
    "\n",
    "def augmented_matrix(A, B):\n",
    "    augmented_M = np.hstack((A, B))\n",
    "    return augmented_M\n",
    "\n",
    "def get_index_first_non_zero_value_from_column(M, start_row, col):\n",
    "    for i in range(start_row, M.shape[0]):\n",
    "        if not np.isclose(M[i, col], 0):\n",
    "            return i\n",
    "    raise ValueError(\"No non-zero element found in the column.\")\n",
    "\n",
    "def swap_rows(M, row1, row2):\n",
    "    M[[row1, row2]] = M[[row2, row1]]\n",
    "    return M\n",
    "\n",
    "def row_echelon_form(A, B):\n",
    "    det_A = np.linalg.det(A)\n",
    "    if np.isclose(det_A, 0):\n",
    "        return 'Singular system'\n",
    "    A = A.copy()\n",
    "    B = B.copy()\n",
    "    A = A.astype('float64')\n",
    "    B = B.astype('float64')\n",
    "    num_rows = len(A)\n",
    "    M = augmented_matrix(A, B)\n",
    "    for row in range(num_rows):\n",
    "        pivot_candidate = M[row, row]\n",
    "        if np.isclose(pivot_candidate, 0):\n",
    "            first_non_zero_value_below_pivot_candidate = get_index_first_non_zero_value_from_column(M, row, row)\n",
    "            M = swap_rows(M, row, first_non_zero_value_below_pivot_candidate)\n",
    "            pivot = M[row, row]\n",
    "        else:\n",
    "            pivot = pivot_candidate\n",
    "        M[row] = (1/pivot) * M[row]\n",
    "        for j in range(row + 1, num_rows):\n",
    "            value_below_pivot = M[j, row]\n",
    "            M[j] = M[j] - value_below_pivot * M[row]\n",
    "    return M\n"
   ]
  },
  {
   "cell_type": "code",
   "execution_count": 28,
   "metadata": {},
   "outputs": [
    {
     "data": {
      "text/plain": [
       "array([[1. , 2. , 3. , 1. ],\n",
       "       [0. , 1. , 0. , 2. ],\n",
       "       [0. , 0. , 1. , 0.8]])"
      ]
     },
     "execution_count": 28,
     "metadata": {},
     "output_type": "execute_result"
    }
   ],
   "source": [
    "A = np.array([[1,2,3],[0,1,0], [0,0,5]])\n",
    "B = np.array([[1], [2], [4]])\n",
    "row_echelon_form(A,B)"
   ]
  },
  {
   "cell_type": "code",
   "execution_count": null,
   "metadata": {},
   "outputs": [],
   "source": []
  }
 ],
 "metadata": {
  "kernelspec": {
   "display_name": "base",
   "language": "python",
   "name": "python3"
  },
  "language_info": {
   "codemirror_mode": {
    "name": "ipython",
    "version": 3
   },
   "file_extension": ".py",
   "mimetype": "text/x-python",
   "name": "python",
   "nbconvert_exporter": "python",
   "pygments_lexer": "ipython3",
   "version": "3.12.4"
  }
 },
 "nbformat": 4,
 "nbformat_minor": 2
}
