{
 "cells": [
  {
   "cell_type": "code",
   "execution_count": 11,
   "metadata": {},
   "outputs": [],
   "source": [
    "import pandas as pd\n",
    "import numpy as np\n",
    "import matplotlib.pyplot as plt\n",
    "import seaborn as sns\n",
    "\n",
    "# added some pandas options to be able to see all the columns\n",
    "pd.set_option(\"display.max_columns\",30)\n",
    "pd.set_option(\"display.max_rows\",50)"
   ]
  },
  {
   "cell_type": "code",
   "execution_count": 12,
   "metadata": {},
   "outputs": [],
   "source": [
    "df  = pd.read_csv(\"hotels.csv\")"
   ]
  },
  {
   "cell_type": "code",
   "execution_count": 13,
   "metadata": {},
   "outputs": [
    {
     "data": {
      "text/html": [
       "<div>\n",
       "<style scoped>\n",
       "    .dataframe tbody tr th:only-of-type {\n",
       "        vertical-align: middle;\n",
       "    }\n",
       "\n",
       "    .dataframe tbody tr th {\n",
       "        vertical-align: top;\n",
       "    }\n",
       "\n",
       "    .dataframe thead th {\n",
       "        text-align: right;\n",
       "    }\n",
       "</style>\n",
       "<table border=\"1\" class=\"dataframe\">\n",
       "  <thead>\n",
       "    <tr style=\"text-align: right;\">\n",
       "      <th></th>\n",
       "      <th>country</th>\n",
       "      <th>city_actual</th>\n",
       "      <th>rating_count</th>\n",
       "      <th>center1label</th>\n",
       "      <th>center2label</th>\n",
       "      <th>neighbourhood</th>\n",
       "      <th>price</th>\n",
       "      <th>city</th>\n",
       "      <th>stars</th>\n",
       "      <th>ratingta</th>\n",
       "      <th>ratingta_count</th>\n",
       "      <th>scarce_room</th>\n",
       "      <th>hotel_id</th>\n",
       "      <th>offer</th>\n",
       "      <th>offer_cat</th>\n",
       "      <th>year</th>\n",
       "      <th>month</th>\n",
       "      <th>weekend</th>\n",
       "      <th>holiday</th>\n",
       "      <th>distance</th>\n",
       "      <th>distance_alter</th>\n",
       "      <th>accommodation_type</th>\n",
       "      <th>nnights</th>\n",
       "      <th>rating</th>\n",
       "    </tr>\n",
       "  </thead>\n",
       "  <tbody>\n",
       "    <tr>\n",
       "      <th>0</th>\n",
       "      <td>Austria</td>\n",
       "      <td>Vienna</td>\n",
       "      <td>36.0</td>\n",
       "      <td>City centre</td>\n",
       "      <td>Donauturm</td>\n",
       "      <td>17. Hernals</td>\n",
       "      <td>81</td>\n",
       "      <td>Vienna</td>\n",
       "      <td>4.0</td>\n",
       "      <td>4.5</td>\n",
       "      <td>216.0</td>\n",
       "      <td>1</td>\n",
       "      <td>21894</td>\n",
       "      <td>1</td>\n",
       "      <td>15-50% offer</td>\n",
       "      <td>2017</td>\n",
       "      <td>11</td>\n",
       "      <td>0</td>\n",
       "      <td>0</td>\n",
       "      <td>2.7</td>\n",
       "      <td>4.4</td>\n",
       "      <td>Apartment</td>\n",
       "      <td>1</td>\n",
       "      <td>4.4</td>\n",
       "    </tr>\n",
       "    <tr>\n",
       "      <th>1</th>\n",
       "      <td>Austria</td>\n",
       "      <td>Vienna</td>\n",
       "      <td>189.0</td>\n",
       "      <td>City centre</td>\n",
       "      <td>Donauturm</td>\n",
       "      <td>17. Hernals</td>\n",
       "      <td>81</td>\n",
       "      <td>Vienna</td>\n",
       "      <td>4.0</td>\n",
       "      <td>3.5</td>\n",
       "      <td>708.0</td>\n",
       "      <td>0</td>\n",
       "      <td>21897</td>\n",
       "      <td>1</td>\n",
       "      <td>1-15% offer</td>\n",
       "      <td>2017</td>\n",
       "      <td>11</td>\n",
       "      <td>0</td>\n",
       "      <td>0</td>\n",
       "      <td>1.7</td>\n",
       "      <td>3.8</td>\n",
       "      <td>Hotel</td>\n",
       "      <td>1</td>\n",
       "      <td>3.9</td>\n",
       "    </tr>\n",
       "    <tr>\n",
       "      <th>2</th>\n",
       "      <td>Austria</td>\n",
       "      <td>Vienna</td>\n",
       "      <td>53.0</td>\n",
       "      <td>City centre</td>\n",
       "      <td>Donauturm</td>\n",
       "      <td>Alsergrund</td>\n",
       "      <td>85</td>\n",
       "      <td>Vienna</td>\n",
       "      <td>4.0</td>\n",
       "      <td>3.5</td>\n",
       "      <td>629.0</td>\n",
       "      <td>0</td>\n",
       "      <td>21901</td>\n",
       "      <td>1</td>\n",
       "      <td>15-50% offer</td>\n",
       "      <td>2017</td>\n",
       "      <td>11</td>\n",
       "      <td>0</td>\n",
       "      <td>0</td>\n",
       "      <td>1.4</td>\n",
       "      <td>2.5</td>\n",
       "      <td>Hotel</td>\n",
       "      <td>1</td>\n",
       "      <td>3.7</td>\n",
       "    </tr>\n",
       "    <tr>\n",
       "      <th>3</th>\n",
       "      <td>Austria</td>\n",
       "      <td>Vienna</td>\n",
       "      <td>55.0</td>\n",
       "      <td>City centre</td>\n",
       "      <td>Donauturm</td>\n",
       "      <td>Alsergrund</td>\n",
       "      <td>83</td>\n",
       "      <td>Vienna</td>\n",
       "      <td>3.0</td>\n",
       "      <td>4.0</td>\n",
       "      <td>52.0</td>\n",
       "      <td>0</td>\n",
       "      <td>21902</td>\n",
       "      <td>1</td>\n",
       "      <td>15-50% offer</td>\n",
       "      <td>2017</td>\n",
       "      <td>11</td>\n",
       "      <td>0</td>\n",
       "      <td>0</td>\n",
       "      <td>1.7</td>\n",
       "      <td>2.5</td>\n",
       "      <td>Hotel</td>\n",
       "      <td>1</td>\n",
       "      <td>4.0</td>\n",
       "    </tr>\n",
       "    <tr>\n",
       "      <th>4</th>\n",
       "      <td>Austria</td>\n",
       "      <td>Vienna</td>\n",
       "      <td>33.0</td>\n",
       "      <td>City centre</td>\n",
       "      <td>Donauturm</td>\n",
       "      <td>Alsergrund</td>\n",
       "      <td>82</td>\n",
       "      <td>Vienna</td>\n",
       "      <td>4.0</td>\n",
       "      <td>3.5</td>\n",
       "      <td>219.0</td>\n",
       "      <td>1</td>\n",
       "      <td>21903</td>\n",
       "      <td>1</td>\n",
       "      <td>15-50% offer</td>\n",
       "      <td>2017</td>\n",
       "      <td>11</td>\n",
       "      <td>0</td>\n",
       "      <td>0</td>\n",
       "      <td>1.2</td>\n",
       "      <td>2.8</td>\n",
       "      <td>Hotel</td>\n",
       "      <td>1</td>\n",
       "      <td>3.9</td>\n",
       "    </tr>\n",
       "  </tbody>\n",
       "</table>\n",
       "</div>"
      ],
      "text/plain": [
       "   country city_actual  rating_count center1label center2label neighbourhood  \\\n",
       "0  Austria      Vienna          36.0  City centre    Donauturm   17. Hernals   \n",
       "1  Austria      Vienna         189.0  City centre    Donauturm   17. Hernals   \n",
       "2  Austria      Vienna          53.0  City centre    Donauturm    Alsergrund   \n",
       "3  Austria      Vienna          55.0  City centre    Donauturm    Alsergrund   \n",
       "4  Austria      Vienna          33.0  City centre    Donauturm    Alsergrund   \n",
       "\n",
       "   price    city  stars  ratingta  ratingta_count  scarce_room  hotel_id  \\\n",
       "0     81  Vienna    4.0       4.5           216.0            1     21894   \n",
       "1     81  Vienna    4.0       3.5           708.0            0     21897   \n",
       "2     85  Vienna    4.0       3.5           629.0            0     21901   \n",
       "3     83  Vienna    3.0       4.0            52.0            0     21902   \n",
       "4     82  Vienna    4.0       3.5           219.0            1     21903   \n",
       "\n",
       "   offer     offer_cat  year  month  weekend  holiday  distance  \\\n",
       "0      1  15-50% offer  2017     11        0        0       2.7   \n",
       "1      1   1-15% offer  2017     11        0        0       1.7   \n",
       "2      1  15-50% offer  2017     11        0        0       1.4   \n",
       "3      1  15-50% offer  2017     11        0        0       1.7   \n",
       "4      1  15-50% offer  2017     11        0        0       1.2   \n",
       "\n",
       "   distance_alter accommodation_type  nnights  rating  \n",
       "0             4.4          Apartment        1     4.4  \n",
       "1             3.8              Hotel        1     3.9  \n",
       "2             2.5              Hotel        1     3.7  \n",
       "3             2.5              Hotel        1     4.0  \n",
       "4             2.8              Hotel        1     3.9  "
      ]
     },
     "execution_count": 13,
     "metadata": {},
     "output_type": "execute_result"
    }
   ],
   "source": [
    "df.head()"
   ]
  },
  {
   "cell_type": "code",
   "execution_count": 15,
   "metadata": {},
   "outputs": [
    {
     "name": "stdout",
     "output_type": "stream",
     "text": [
      "<class 'pandas.core.frame.DataFrame'>\n",
      "RangeIndex: 428 entries, 0 to 427\n",
      "Data columns (total 24 columns):\n",
      " #   Column              Non-Null Count  Dtype  \n",
      "---  ------              --------------  -----  \n",
      " 0   country             428 non-null    object \n",
      " 1   city_actual         428 non-null    object \n",
      " 2   rating_count        393 non-null    float64\n",
      " 3   center1label        428 non-null    object \n",
      " 4   center2label        428 non-null    object \n",
      " 5   neighbourhood       428 non-null    object \n",
      " 6   price               428 non-null    int64  \n",
      " 7   city                428 non-null    object \n",
      " 8   stars               428 non-null    float64\n",
      " 9   ratingta            325 non-null    float64\n",
      " 10  ratingta_count      325 non-null    float64\n",
      " 11  scarce_room         428 non-null    int64  \n",
      " 12  hotel_id            428 non-null    int64  \n",
      " 13  offer               428 non-null    int64  \n",
      " 14  offer_cat           428 non-null    object \n",
      " 15  year                428 non-null    int64  \n",
      " 16  month               428 non-null    int64  \n",
      " 17  weekend             428 non-null    int64  \n",
      " 18  holiday             428 non-null    int64  \n",
      " 19  distance            428 non-null    float64\n",
      " 20  distance_alter      428 non-null    float64\n",
      " 21  accommodation_type  428 non-null    object \n",
      " 22  nnights             428 non-null    int64  \n",
      " 23  rating              393 non-null    float64\n",
      "dtypes: float64(7), int64(9), object(8)\n",
      "memory usage: 80.4+ KB\n"
     ]
    }
   ],
   "source": [
    "df.info()"
   ]
  },
  {
   "cell_type": "code",
   "execution_count": 17,
   "metadata": {},
   "outputs": [
    {
     "data": {
      "text/plain": [
       "country                 0\n",
       "city_actual             0\n",
       "rating_count           35\n",
       "center1label            0\n",
       "center2label            0\n",
       "neighbourhood           0\n",
       "price                   0\n",
       "city                    0\n",
       "stars                   0\n",
       "ratingta              103\n",
       "ratingta_count        103\n",
       "scarce_room             0\n",
       "hotel_id                0\n",
       "offer                   0\n",
       "offer_cat               0\n",
       "year                    0\n",
       "month                   0\n",
       "weekend                 0\n",
       "holiday                 0\n",
       "distance                0\n",
       "distance_alter          0\n",
       "accommodation_type      0\n",
       "nnights                 0\n",
       "rating                 35\n",
       "dtype: int64"
      ]
     },
     "execution_count": 17,
     "metadata": {},
     "output_type": "execute_result"
    }
   ],
   "source": [
    "# to find null values in all the columnns\n",
    "df.isna().sum()"
   ]
  },
  {
   "cell_type": "code",
   "execution_count": 19,
   "metadata": {},
   "outputs": [
    {
     "data": {
      "text/plain": [
       "array(['Vienna'], dtype=object)"
      ]
     },
     "execution_count": 19,
     "metadata": {},
     "output_type": "execute_result"
    }
   ],
   "source": [
    "# to identify the cities pressent in the dataset\n",
    "df[\"city\"].unique()"
   ]
  },
  {
   "cell_type": "code",
   "execution_count": 24,
   "metadata": {},
   "outputs": [
    {
     "data": {
      "text/plain": [
       "array(['17. Hernals', 'Alsergrund', 'Donaustadt', 'Favoriten',\n",
       "       'Fischamend', 'Graben', 'Innere Stadt', 'Josefstadt',\n",
       "       'Kaerntner Strasse', 'Landstrasse', 'Leopoldstadt', 'Margareten',\n",
       "       'Mariahilf', 'Neubau', 'Ottakring', 'Rudolfsheim-Funfhaus',\n",
       "       'Schonbrunn', 'Schwechat', 'Vienna', 'Voesendorf', 'Wahring',\n",
       "       'Wieden'], dtype=object)"
      ]
     },
     "execution_count": 24,
     "metadata": {},
     "output_type": "execute_result"
    }
   ],
   "source": [
    "# to identify the neighbourhoods pressent in the dataset\n",
    "df[\"neighbourhood\"].unique()"
   ]
  },
  {
   "cell_type": "code",
   "execution_count": 25,
   "metadata": {},
   "outputs": [
    {
     "data": {
      "text/plain": [
       "neighbourhood\n",
       "Innere Stadt            84\n",
       "Vienna                  43\n",
       "Leopoldstadt            41\n",
       "Landstrasse             32\n",
       "Josefstadt              26\n",
       "Mariahilf               25\n",
       "Wieden                  22\n",
       "Favoriten               22\n",
       "Rudolfsheim-Funfhaus    21\n",
       "Neubau                  21\n",
       "Alsergrund              17\n",
       "Margareten              16\n",
       "Schonbrunn              14\n",
       "Kaerntner Strasse       10\n",
       "Donaustadt               9\n",
       "Schwechat                7\n",
       "Ottakring                5\n",
       "Wahring                  5\n",
       "Graben                   3\n",
       "Voesendorf               2\n",
       "17. Hernals              2\n",
       "Fischamend               1\n",
       "Name: count, dtype: int64"
      ]
     },
     "execution_count": 25,
     "metadata": {},
     "output_type": "execute_result"
    }
   ],
   "source": [
    "# to identify occurence of the neighbourhood pressent in the dataset\n",
    "df[\"neighbourhood\"].value_counts()"
   ]
  },
  {
   "cell_type": "code",
   "execution_count": 34,
   "metadata": {},
   "outputs": [
    {
     "data": {
      "text/html": [
       "<div>\n",
       "<style scoped>\n",
       "    .dataframe tbody tr th:only-of-type {\n",
       "        vertical-align: middle;\n",
       "    }\n",
       "\n",
       "    .dataframe tbody tr th {\n",
       "        vertical-align: top;\n",
       "    }\n",
       "\n",
       "    .dataframe thead th {\n",
       "        text-align: right;\n",
       "    }\n",
       "</style>\n",
       "<table border=\"1\" class=\"dataframe\">\n",
       "  <thead>\n",
       "    <tr style=\"text-align: right;\">\n",
       "      <th></th>\n",
       "      <th>price</th>\n",
       "      <th>distance</th>\n",
       "    </tr>\n",
       "  </thead>\n",
       "  <tbody>\n",
       "    <tr>\n",
       "      <th>count</th>\n",
       "      <td>428.000000</td>\n",
       "      <td>428.000000</td>\n",
       "    </tr>\n",
       "    <tr>\n",
       "      <th>mean</th>\n",
       "      <td>131.366822</td>\n",
       "      <td>1.658879</td>\n",
       "    </tr>\n",
       "    <tr>\n",
       "      <th>std</th>\n",
       "      <td>91.580545</td>\n",
       "      <td>1.595673</td>\n",
       "    </tr>\n",
       "    <tr>\n",
       "      <th>min</th>\n",
       "      <td>27.000000</td>\n",
       "      <td>0.000000</td>\n",
       "    </tr>\n",
       "    <tr>\n",
       "      <th>25%</th>\n",
       "      <td>83.000000</td>\n",
       "      <td>0.700000</td>\n",
       "    </tr>\n",
       "    <tr>\n",
       "      <th>50%</th>\n",
       "      <td>109.500000</td>\n",
       "      <td>1.300000</td>\n",
       "    </tr>\n",
       "    <tr>\n",
       "      <th>75%</th>\n",
       "      <td>146.000000</td>\n",
       "      <td>2.000000</td>\n",
       "    </tr>\n",
       "    <tr>\n",
       "      <th>max</th>\n",
       "      <td>1012.000000</td>\n",
       "      <td>13.000000</td>\n",
       "    </tr>\n",
       "  </tbody>\n",
       "</table>\n",
       "</div>"
      ],
      "text/plain": [
       "             price    distance\n",
       "count   428.000000  428.000000\n",
       "mean    131.366822    1.658879\n",
       "std      91.580545    1.595673\n",
       "min      27.000000    0.000000\n",
       "25%      83.000000    0.700000\n",
       "50%     109.500000    1.300000\n",
       "75%     146.000000    2.000000\n",
       "max    1012.000000   13.000000"
      ]
     },
     "execution_count": 34,
     "metadata": {},
     "output_type": "execute_result"
    }
   ],
   "source": [
    "# descriptive statisitcs on the price\n",
    "df[[\"price\",\"distance\"]].describe()"
   ]
  },
  {
   "cell_type": "code",
   "execution_count": 33,
   "metadata": {},
   "outputs": [
    {
     "data": {
      "text/plain": [
       "array([[<Axes: title={'center': 'price'}>]], dtype=object)"
      ]
     },
     "execution_count": 33,
     "metadata": {},
     "output_type": "execute_result"
    },
    {
     "data": {
      "image/png": "[encoded data removed]",
      "text/plain": [
       "<Figure size 640x480 with 1 Axes>"
      ]
     },
     "metadata": {},
     "output_type": "display_data"
    }
   ],
   "source": [
    "df[[\"price\"]].hist() \n",
    "# skewed to the right -- mean >> median"
   ]
  },
  {
   "cell_type": "code",
   "execution_count": 52,
   "metadata": {},
   "outputs": [
    {
     "data": {
      "image/png": "[encoded data removed]",
      "text/plain": [
       "<Figure size 2000x600 with 1 Axes>"
      ]
     },
     "metadata": {},
     "output_type": "display_data"
    }
   ],
   "source": [
    "# Relation between Price and Distance\n",
    "df[[\"price\",\"distance\"]].plot.scatter(x=\"distance\",y=\"price\",figsize=(20,6),title=\"Price v/s Distance\")\n",
    "plt.show()"
   ]
  },
  {
   "cell_type": "code",
   "execution_count": null,
   "metadata": {},
   "outputs": [],
   "source": []
  }
 ],
 "metadata": {
  "kernelspec": {
   "display_name": "base",
   "language": "python",
   "name": "python3"
  },
  "language_info": {
   "codemirror_mode": {
    "name": "ipython",
    "version": 3
   },
   "file_extension": ".py",
   "mimetype": "text/x-python",
   "name": "python",
   "nbconvert_exporter": "python",
   "pygments_lexer": "ipython3",
   "version": "3.12.4"
  }
 },
 "nbformat": 4,
 "nbformat_minor": 2
}
