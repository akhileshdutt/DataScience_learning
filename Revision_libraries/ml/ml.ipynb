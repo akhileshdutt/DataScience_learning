{
 "cells": [
  {
   "cell_type": "markdown",
   "metadata": {},
   "source": [
    "## AI v/s ML v/s DL v/s DS\n",
    "##### 1. AI : Artificial Intelligence are samrt applications that perform it's own task without any human intervention eg: Self Driving Car,Robots etc\n",
    "##### 2. ML : Machine Learning provides statstool to analyse , visualise , and have predicitve model eg : Recommendation System\n",
    "##### 3. DL : Deep Learning use multilayered neural network eg : Image recognition , Chatbot\n",
    "##### 4. DS : Data Science is a part of feature engineering uses all of this combined depends on the job in different companies"
   ]
  },
  {
   "cell_type": "markdown",
   "metadata": {},
   "source": [
    "#"
   ]
  },
  {
   "cell_type": "markdown",
   "metadata": {
    "vscode": {
     "languageId": "plaintext"
    }
   },
   "source": [
    "### Supervised , Unsupervised , Semi-Supervised ,Reinforcement Learning\n",
    "#### 1. Supervised Machine Learning are of two types i. Classification ii. Regression\n",
    "#### 2. Unsupervised Machine Learning\n",
    "#### 3. Semi-supervised Machine Learning\n",
    "#### 4. Reinforcement Learning"
   ]
  },
  {
   "cell_type": "markdown",
   "metadata": {},
   "source": [
    "#"
   ]
  },
  {
   "cell_type": "markdown",
   "metadata": {
    "vscode": {
     "languageId": "plaintext"
    }
   },
   "source": []
  }
 ],
 "metadata": {
  "language_info": {
   "name": "python"
  }
 },
 "nbformat": 4,
 "nbformat_minor": 2
}
